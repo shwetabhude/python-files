{
 "cells": [
  {
   "cell_type": "code",
   "execution_count": 7,
   "id": "c6504870",
   "metadata": {},
   "outputs": [
    {
     "name": "stdout",
     "output_type": "stream",
     "text": [
      "Please Enter your name: momo\n",
      "Enter your weignt in pouds: 98\n",
      "Enter your Height in pouds: 36\n",
      "53.15895061728395\n"
     ]
    }
   ],
   "source": [
    "Name= input(\"Please Enter your name: \")\n",
    "weight = int(input(\"Enter your weignt in pouds: \"))\n",
    "Height = int(input(\"Enter your Height in pouds: \"))\n",
    "\n",
    "BMI = weight* 703/(Height*Height)\n",
    "print(BMI )\n",
    "\n",
    "\n"
   ]
  },
  {
   "cell_type": "code",
   "execution_count": 9,
   "id": "241a1887",
   "metadata": {},
   "outputs": [
    {
     "name": "stdout",
     "output_type": "stream",
     "text": [
      "momo You are obesed\n"
     ]
    }
   ],
   "source": [
    "if BMI>0:\n",
    "    if (BMI<=18.5):\n",
    "        print(Name + \" \" +'hi your are underweight')\n",
    "    \n",
    "    elif (BMI==24.9):\n",
    "        print(Name + \" \" + 'Your weight is normal')\n",
    "    \n",
    "    elif (BMI==29.9):\n",
    "        print(Name + \" \" + \"Your are over weight\")\n",
    "          \n",
    "    elif (BMI>30):\n",
    "        print(Name + \" \" + \"You are obesed\")\n",
    "    \n",
    "else:\n",
    "    print(Name + \" \" + \"please enter valid input\")\n"
   ]
  },
  {
   "cell_type": "code",
   "execution_count": null,
   "id": "7f847298",
   "metadata": {},
   "outputs": [],
   "source": [
    "\n",
    "BMI Categories:\n",
    "Underweight = <18.5\n",
    "Normal weight = 18.5–24.9\n",
    "Overweight = 25–29.9\n",
    "Obesity = BMI of 30 or greater"
   ]
  },
  {
   "cell_type": "code",
   "execution_count": 2,
   "id": "a8ebed21",
   "metadata": {},
   "outputs": [],
   "source": [
    "import os"
   ]
  },
  {
   "cell_type": "code",
   "execution_count": 3,
   "id": "14230f5d",
   "metadata": {},
   "outputs": [
    {
     "data": {
      "text/plain": [
       "'C:\\\\Users\\\\Admin'"
      ]
     },
     "execution_count": 3,
     "metadata": {},
     "output_type": "execute_result"
    }
   ],
   "source": [
    "os.getcwd()"
   ]
  },
  {
   "cell_type": "code",
   "execution_count": null,
   "id": "75de36a7",
   "metadata": {},
   "outputs": [],
   "source": []
  },
  {
   "cell_type": "code",
   "execution_count": null,
   "id": "7d239614",
   "metadata": {},
   "outputs": [],
   "source": []
  },
  {
   "cell_type": "code",
   "execution_count": null,
   "id": "8b91335d",
   "metadata": {},
   "outputs": [],
   "source": []
  },
  {
   "cell_type": "code",
   "execution_count": null,
   "id": "3cef8fab",
   "metadata": {},
   "outputs": [],
   "source": []
  },
  {
   "cell_type": "code",
   "execution_count": null,
   "id": "ecddf24b",
   "metadata": {},
   "outputs": [],
   "source": []
  },
  {
   "cell_type": "code",
   "execution_count": null,
   "id": "b6658249",
   "metadata": {},
   "outputs": [],
   "source": []
  }
 ],
 "metadata": {
  "kernelspec": {
   "display_name": "Python 3 (ipykernel)",
   "language": "python",
   "name": "python3"
  },
  "language_info": {
   "codemirror_mode": {
    "name": "ipython",
    "version": 3
   },
   "file_extension": ".py",
   "mimetype": "text/x-python",
   "name": "python",
   "nbconvert_exporter": "python",
   "pygments_lexer": "ipython3",
   "version": "3.9.13"
  }
 },
 "nbformat": 4,
 "nbformat_minor": 5
}
